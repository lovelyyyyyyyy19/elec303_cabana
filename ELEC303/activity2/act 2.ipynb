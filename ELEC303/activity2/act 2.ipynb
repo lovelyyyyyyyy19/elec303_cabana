{
 "cells": [
  {
   "cell_type": "markdown",
   "id": "21d19362-e53f-4a8d-8398-df21d8a77dca",
   "metadata": {},
   "source": [
    "<h1>DATA ANALYTICS OF UK ROAD ACCIDENT</h1>"
   ]
  },
  {
   "cell_type": "markdown",
   "id": "9891abdc-95d6-4ec3-819f-7f7e110139bb",
   "metadata": {},
   "source": [
    "<h3>Analysis: Lovely Claire Cabana</h3>"
   ]
  },
  {
   "cell_type": "markdown",
   "id": "591ee7b6-0aa2-4167-b243-23ea085a257b",
   "metadata": {},
   "source": [
    "<h2>1. Importing Necessary Libraries</h2>"
   ]
  },
  {
   "cell_type": "code",
   "execution_count": 1,
   "id": "1e46f443-4c18-4b1f-b9a7-0adfe0f0e551",
   "metadata": {},
   "outputs": [],
   "source": [
    "import numpy as np\n",
    "import pandas as pd\n",
    "import warnings\n",
    "warnings.filterwarnings('ignore')"
   ]
  },
  {
   "cell_type": "markdown",
   "id": "571070b0-0860-451c-a1b7-f5bcbb3d6c14",
   "metadata": {},
   "source": [
    "<h2>2. Coverting data set to data frame</h2>"
   ]
  },
  {
   "cell_type": "code",
   "execution_count": 31,
   "id": "df14981c-0e3b-4a5e-8570-ee9d8251b26b",
   "metadata": {},
   "outputs": [],
   "source": [
    "accidents = pd.read_csv('datasets\\\\uk_road_accident.csv')"
   ]
  },
  {
   "cell_type": "markdown",
   "id": "8eff4f19-2e02-4d94-81f4-d4e4c6533694",
   "metadata": {},
   "source": [
    "<h2>3. Check Dataframe Information</h2>"
   ]
  },
  {
   "cell_type": "code",
   "execution_count": 32,
   "id": "dc397762-683f-4921-a9de-ee21066ddfe0",
   "metadata": {},
   "outputs": [
    {
     "data": {
      "text/html": [
       "<div>\n",
       "<style scoped>\n",
       "    .dataframe tbody tr th:only-of-type {\n",
       "        vertical-align: middle;\n",
       "    }\n",
       "\n",
       "    .dataframe tbody tr th {\n",
       "        vertical-align: top;\n",
       "    }\n",
       "\n",
       "    .dataframe thead th {\n",
       "        text-align: right;\n",
       "    }\n",
       "</style>\n",
       "<table border=\"1\" class=\"dataframe\">\n",
       "  <thead>\n",
       "    <tr style=\"text-align: right;\">\n",
       "      <th></th>\n",
       "      <th>Index</th>\n",
       "      <th>Accident_Severity</th>\n",
       "      <th>Accident Date</th>\n",
       "      <th>Latitude</th>\n",
       "      <th>Light_Conditions</th>\n",
       "      <th>District Area</th>\n",
       "      <th>Longitude</th>\n",
       "      <th>Number_of_Casualties</th>\n",
       "      <th>Number_of_Vehicles</th>\n",
       "      <th>Road_Surface_Conditions</th>\n",
       "      <th>Road_Type</th>\n",
       "      <th>Urban_or_Rural_Area</th>\n",
       "      <th>Weather_Conditions</th>\n",
       "      <th>Vehicle_Type</th>\n",
       "    </tr>\n",
       "  </thead>\n",
       "  <tbody>\n",
       "    <tr>\n",
       "      <th>0</th>\n",
       "      <td>200701BS64157</td>\n",
       "      <td>Serious</td>\n",
       "      <td>5/6/2019</td>\n",
       "      <td>51.506187</td>\n",
       "      <td>Darkness - lights lit</td>\n",
       "      <td>Kensington and Chelsea</td>\n",
       "      <td>-0.209082</td>\n",
       "      <td>1</td>\n",
       "      <td>2</td>\n",
       "      <td>Dry</td>\n",
       "      <td>Single carriageway</td>\n",
       "      <td>Urban</td>\n",
       "      <td>Fine no high winds</td>\n",
       "      <td>Car</td>\n",
       "    </tr>\n",
       "    <tr>\n",
       "      <th>1</th>\n",
       "      <td>200701BS65737</td>\n",
       "      <td>Serious</td>\n",
       "      <td>2/7/2019</td>\n",
       "      <td>51.495029</td>\n",
       "      <td>Daylight</td>\n",
       "      <td>Kensington and Chelsea</td>\n",
       "      <td>-0.173647</td>\n",
       "      <td>1</td>\n",
       "      <td>2</td>\n",
       "      <td>Wet or damp</td>\n",
       "      <td>Single carriageway</td>\n",
       "      <td>Urban</td>\n",
       "      <td>Raining no high winds</td>\n",
       "      <td>Car</td>\n",
       "    </tr>\n",
       "    <tr>\n",
       "      <th>2</th>\n",
       "      <td>200701BS66127</td>\n",
       "      <td>Serious</td>\n",
       "      <td>26-08-2019</td>\n",
       "      <td>51.517715</td>\n",
       "      <td>Darkness - lighting unknown</td>\n",
       "      <td>Kensington and Chelsea</td>\n",
       "      <td>-0.210215</td>\n",
       "      <td>1</td>\n",
       "      <td>3</td>\n",
       "      <td>Dry</td>\n",
       "      <td>NaN</td>\n",
       "      <td>Urban</td>\n",
       "      <td>NaN</td>\n",
       "      <td>Taxi/Private hire car</td>\n",
       "    </tr>\n",
       "    <tr>\n",
       "      <th>3</th>\n",
       "      <td>200701BS66128</td>\n",
       "      <td>Serious</td>\n",
       "      <td>16-08-2019</td>\n",
       "      <td>51.495478</td>\n",
       "      <td>Daylight</td>\n",
       "      <td>Kensington and Chelsea</td>\n",
       "      <td>-0.202731</td>\n",
       "      <td>1</td>\n",
       "      <td>4</td>\n",
       "      <td>Dry</td>\n",
       "      <td>Single carriageway</td>\n",
       "      <td>Urban</td>\n",
       "      <td>Fine no high winds</td>\n",
       "      <td>Bus or coach (17 or more pass seats)</td>\n",
       "    </tr>\n",
       "    <tr>\n",
       "      <th>4</th>\n",
       "      <td>200701BS66837</td>\n",
       "      <td>Slight</td>\n",
       "      <td>3/9/2019</td>\n",
       "      <td>51.488576</td>\n",
       "      <td>Darkness - lights lit</td>\n",
       "      <td>Kensington and Chelsea</td>\n",
       "      <td>-0.192487</td>\n",
       "      <td>1</td>\n",
       "      <td>2</td>\n",
       "      <td>Dry</td>\n",
       "      <td>NaN</td>\n",
       "      <td>Urban</td>\n",
       "      <td>NaN</td>\n",
       "      <td>Other vehicle</td>\n",
       "    </tr>\n",
       "    <tr>\n",
       "      <th>...</th>\n",
       "      <td>...</td>\n",
       "      <td>...</td>\n",
       "      <td>...</td>\n",
       "      <td>...</td>\n",
       "      <td>...</td>\n",
       "      <td>...</td>\n",
       "      <td>...</td>\n",
       "      <td>...</td>\n",
       "      <td>...</td>\n",
       "      <td>...</td>\n",
       "      <td>...</td>\n",
       "      <td>...</td>\n",
       "      <td>...</td>\n",
       "      <td>...</td>\n",
       "    </tr>\n",
       "    <tr>\n",
       "      <th>660674</th>\n",
       "      <td>201091NM01760</td>\n",
       "      <td>Slight</td>\n",
       "      <td>18-02-2022</td>\n",
       "      <td>57.374005</td>\n",
       "      <td>Daylight</td>\n",
       "      <td>Highland</td>\n",
       "      <td>-3.467828</td>\n",
       "      <td>2</td>\n",
       "      <td>1</td>\n",
       "      <td>Dry</td>\n",
       "      <td>Single carriageway</td>\n",
       "      <td>Rural</td>\n",
       "      <td>Fine no high winds</td>\n",
       "      <td>Car</td>\n",
       "    </tr>\n",
       "    <tr>\n",
       "      <th>660675</th>\n",
       "      <td>201091NM01881</td>\n",
       "      <td>Slight</td>\n",
       "      <td>21-02-2022</td>\n",
       "      <td>57.232273</td>\n",
       "      <td>Darkness - no lighting</td>\n",
       "      <td>Highland</td>\n",
       "      <td>-3.809281</td>\n",
       "      <td>1</td>\n",
       "      <td>1</td>\n",
       "      <td>Frost or ice</td>\n",
       "      <td>Single carriageway</td>\n",
       "      <td>Rural</td>\n",
       "      <td>Fine no high winds</td>\n",
       "      <td>Car</td>\n",
       "    </tr>\n",
       "    <tr>\n",
       "      <th>660676</th>\n",
       "      <td>201091NM01935</td>\n",
       "      <td>Slight</td>\n",
       "      <td>23-02-2022</td>\n",
       "      <td>57.585044</td>\n",
       "      <td>Daylight</td>\n",
       "      <td>Highland</td>\n",
       "      <td>-3.862727</td>\n",
       "      <td>1</td>\n",
       "      <td>3</td>\n",
       "      <td>Frost or ice</td>\n",
       "      <td>Single carriageway</td>\n",
       "      <td>Rural</td>\n",
       "      <td>Fine no high winds</td>\n",
       "      <td>Car</td>\n",
       "    </tr>\n",
       "    <tr>\n",
       "      <th>660677</th>\n",
       "      <td>201091NM01964</td>\n",
       "      <td>Serious</td>\n",
       "      <td>23-02-2022</td>\n",
       "      <td>57.214898</td>\n",
       "      <td>Darkness - no lighting</td>\n",
       "      <td>Highland</td>\n",
       "      <td>-3.823997</td>\n",
       "      <td>1</td>\n",
       "      <td>2</td>\n",
       "      <td>Wet or damp</td>\n",
       "      <td>Single carriageway</td>\n",
       "      <td>Rural</td>\n",
       "      <td>Fine no high winds</td>\n",
       "      <td>Motorcycle over 500cc</td>\n",
       "    </tr>\n",
       "    <tr>\n",
       "      <th>660678</th>\n",
       "      <td>201091NM02142</td>\n",
       "      <td>Serious</td>\n",
       "      <td>28-02-2022</td>\n",
       "      <td>57.575210</td>\n",
       "      <td>Daylight</td>\n",
       "      <td>Highland</td>\n",
       "      <td>-3.895673</td>\n",
       "      <td>1</td>\n",
       "      <td>1</td>\n",
       "      <td>Wet or damp</td>\n",
       "      <td>Dual carriageway</td>\n",
       "      <td>Rural</td>\n",
       "      <td>Snowing no high winds</td>\n",
       "      <td>Car</td>\n",
       "    </tr>\n",
       "  </tbody>\n",
       "</table>\n",
       "<p>660679 rows × 14 columns</p>\n",
       "</div>"
      ],
      "text/plain": [
       "                Index Accident_Severity Accident Date   Latitude  \\\n",
       "0       200701BS64157           Serious      5/6/2019  51.506187   \n",
       "1       200701BS65737           Serious      2/7/2019  51.495029   \n",
       "2       200701BS66127           Serious    26-08-2019  51.517715   \n",
       "3       200701BS66128           Serious    16-08-2019  51.495478   \n",
       "4       200701BS66837            Slight      3/9/2019  51.488576   \n",
       "...               ...               ...           ...        ...   \n",
       "660674  201091NM01760            Slight    18-02-2022  57.374005   \n",
       "660675  201091NM01881            Slight    21-02-2022  57.232273   \n",
       "660676  201091NM01935            Slight    23-02-2022  57.585044   \n",
       "660677  201091NM01964           Serious    23-02-2022  57.214898   \n",
       "660678  201091NM02142           Serious    28-02-2022  57.575210   \n",
       "\n",
       "                   Light_Conditions           District Area  Longitude  \\\n",
       "0             Darkness - lights lit  Kensington and Chelsea  -0.209082   \n",
       "1                          Daylight  Kensington and Chelsea  -0.173647   \n",
       "2       Darkness - lighting unknown  Kensington and Chelsea  -0.210215   \n",
       "3                          Daylight  Kensington and Chelsea  -0.202731   \n",
       "4             Darkness - lights lit  Kensington and Chelsea  -0.192487   \n",
       "...                             ...                     ...        ...   \n",
       "660674                     Daylight                Highland  -3.467828   \n",
       "660675       Darkness - no lighting                Highland  -3.809281   \n",
       "660676                     Daylight                Highland  -3.862727   \n",
       "660677       Darkness - no lighting                Highland  -3.823997   \n",
       "660678                     Daylight                Highland  -3.895673   \n",
       "\n",
       "        Number_of_Casualties  Number_of_Vehicles Road_Surface_Conditions  \\\n",
       "0                          1                   2                     Dry   \n",
       "1                          1                   2             Wet or damp   \n",
       "2                          1                   3                     Dry   \n",
       "3                          1                   4                     Dry   \n",
       "4                          1                   2                     Dry   \n",
       "...                      ...                 ...                     ...   \n",
       "660674                     2                   1                     Dry   \n",
       "660675                     1                   1            Frost or ice   \n",
       "660676                     1                   3            Frost or ice   \n",
       "660677                     1                   2             Wet or damp   \n",
       "660678                     1                   1             Wet or damp   \n",
       "\n",
       "                 Road_Type Urban_or_Rural_Area     Weather_Conditions  \\\n",
       "0       Single carriageway               Urban     Fine no high winds   \n",
       "1       Single carriageway               Urban  Raining no high winds   \n",
       "2                      NaN               Urban                    NaN   \n",
       "3       Single carriageway               Urban     Fine no high winds   \n",
       "4                      NaN               Urban                    NaN   \n",
       "...                    ...                 ...                    ...   \n",
       "660674  Single carriageway               Rural     Fine no high winds   \n",
       "660675  Single carriageway               Rural     Fine no high winds   \n",
       "660676  Single carriageway               Rural     Fine no high winds   \n",
       "660677  Single carriageway               Rural     Fine no high winds   \n",
       "660678    Dual carriageway               Rural  Snowing no high winds   \n",
       "\n",
       "                                Vehicle_Type  \n",
       "0                                        Car  \n",
       "1                                        Car  \n",
       "2                      Taxi/Private hire car  \n",
       "3       Bus or coach (17 or more pass seats)  \n",
       "4                              Other vehicle  \n",
       "...                                      ...  \n",
       "660674                                   Car  \n",
       "660675                                   Car  \n",
       "660676                                   Car  \n",
       "660677                 Motorcycle over 500cc  \n",
       "660678                                   Car  \n",
       "\n",
       "[660679 rows x 14 columns]"
      ]
     },
     "execution_count": 32,
     "metadata": {},
     "output_type": "execute_result"
    }
   ],
   "source": [
    "accidents"
   ]
  },
  {
   "cell_type": "markdown",
   "id": "fe3a5cd2-55bd-46d6-aa7a-e75a9923426d",
   "metadata": {},
   "source": [
    "<h2>4. Check Discriptive Statistics</h2>"
   ]
  },
  {
   "cell_type": "code",
   "execution_count": 33,
   "id": "b2a1bd17-44fb-41f4-abe5-da1f3eaa5413",
   "metadata": {},
   "outputs": [
    {
     "data": {
      "text/html": [
       "<div>\n",
       "<style scoped>\n",
       "    .dataframe tbody tr th:only-of-type {\n",
       "        vertical-align: middle;\n",
       "    }\n",
       "\n",
       "    .dataframe tbody tr th {\n",
       "        vertical-align: top;\n",
       "    }\n",
       "\n",
       "    .dataframe thead th {\n",
       "        text-align: right;\n",
       "    }\n",
       "</style>\n",
       "<table border=\"1\" class=\"dataframe\">\n",
       "  <thead>\n",
       "    <tr style=\"text-align: right;\">\n",
       "      <th></th>\n",
       "      <th>Latitude</th>\n",
       "      <th>Longitude</th>\n",
       "      <th>Number_of_Casualties</th>\n",
       "      <th>Number_of_Vehicles</th>\n",
       "    </tr>\n",
       "  </thead>\n",
       "  <tbody>\n",
       "    <tr>\n",
       "      <th>count</th>\n",
       "      <td>660654.000000</td>\n",
       "      <td>660653.000000</td>\n",
       "      <td>660679.000000</td>\n",
       "      <td>660679.000000</td>\n",
       "    </tr>\n",
       "    <tr>\n",
       "      <th>mean</th>\n",
       "      <td>52.553866</td>\n",
       "      <td>-1.431210</td>\n",
       "      <td>1.357040</td>\n",
       "      <td>1.831255</td>\n",
       "    </tr>\n",
       "    <tr>\n",
       "      <th>std</th>\n",
       "      <td>1.406922</td>\n",
       "      <td>1.383330</td>\n",
       "      <td>0.824847</td>\n",
       "      <td>0.715269</td>\n",
       "    </tr>\n",
       "    <tr>\n",
       "      <th>min</th>\n",
       "      <td>49.914430</td>\n",
       "      <td>-7.516225</td>\n",
       "      <td>1.000000</td>\n",
       "      <td>1.000000</td>\n",
       "    </tr>\n",
       "    <tr>\n",
       "      <th>25%</th>\n",
       "      <td>51.490690</td>\n",
       "      <td>-2.332291</td>\n",
       "      <td>1.000000</td>\n",
       "      <td>1.000000</td>\n",
       "    </tr>\n",
       "    <tr>\n",
       "      <th>50%</th>\n",
       "      <td>52.315641</td>\n",
       "      <td>-1.411667</td>\n",
       "      <td>1.000000</td>\n",
       "      <td>2.000000</td>\n",
       "    </tr>\n",
       "    <tr>\n",
       "      <th>75%</th>\n",
       "      <td>53.453452</td>\n",
       "      <td>-0.232869</td>\n",
       "      <td>1.000000</td>\n",
       "      <td>2.000000</td>\n",
       "    </tr>\n",
       "    <tr>\n",
       "      <th>max</th>\n",
       "      <td>60.757544</td>\n",
       "      <td>1.762010</td>\n",
       "      <td>68.000000</td>\n",
       "      <td>32.000000</td>\n",
       "    </tr>\n",
       "  </tbody>\n",
       "</table>\n",
       "</div>"
      ],
      "text/plain": [
       "            Latitude      Longitude  Number_of_Casualties  Number_of_Vehicles\n",
       "count  660654.000000  660653.000000         660679.000000       660679.000000\n",
       "mean       52.553866      -1.431210              1.357040            1.831255\n",
       "std         1.406922       1.383330              0.824847            0.715269\n",
       "min        49.914430      -7.516225              1.000000            1.000000\n",
       "25%        51.490690      -2.332291              1.000000            1.000000\n",
       "50%        52.315641      -1.411667              1.000000            2.000000\n",
       "75%        53.453452      -0.232869              1.000000            2.000000\n",
       "max        60.757544       1.762010             68.000000           32.000000"
      ]
     },
     "execution_count": 33,
     "metadata": {},
     "output_type": "execute_result"
    }
   ],
   "source": [
    "accidents.describe()"
   ]
  },
  {
   "cell_type": "code",
   "execution_count": 34,
   "id": "7b721ab7-aeb1-4636-82c1-9835972ec9a8",
   "metadata": {},
   "outputs": [
    {
     "data": {
      "text/html": [
       "<div>\n",
       "<style scoped>\n",
       "    .dataframe tbody tr th:only-of-type {\n",
       "        vertical-align: middle;\n",
       "    }\n",
       "\n",
       "    .dataframe tbody tr th {\n",
       "        vertical-align: top;\n",
       "    }\n",
       "\n",
       "    .dataframe thead th {\n",
       "        text-align: right;\n",
       "    }\n",
       "</style>\n",
       "<table border=\"1\" class=\"dataframe\">\n",
       "  <thead>\n",
       "    <tr style=\"text-align: right;\">\n",
       "      <th></th>\n",
       "      <th>count</th>\n",
       "      <th>mean</th>\n",
       "      <th>std</th>\n",
       "      <th>min</th>\n",
       "      <th>25%</th>\n",
       "      <th>50%</th>\n",
       "      <th>75%</th>\n",
       "      <th>max</th>\n",
       "    </tr>\n",
       "  </thead>\n",
       "  <tbody>\n",
       "    <tr>\n",
       "      <th>Latitude</th>\n",
       "      <td>660654.0</td>\n",
       "      <td>52.553866</td>\n",
       "      <td>1.406922</td>\n",
       "      <td>49.914430</td>\n",
       "      <td>51.490690</td>\n",
       "      <td>52.315641</td>\n",
       "      <td>53.453452</td>\n",
       "      <td>60.757544</td>\n",
       "    </tr>\n",
       "    <tr>\n",
       "      <th>Longitude</th>\n",
       "      <td>660653.0</td>\n",
       "      <td>-1.431210</td>\n",
       "      <td>1.383330</td>\n",
       "      <td>-7.516225</td>\n",
       "      <td>-2.332291</td>\n",
       "      <td>-1.411667</td>\n",
       "      <td>-0.232869</td>\n",
       "      <td>1.762010</td>\n",
       "    </tr>\n",
       "    <tr>\n",
       "      <th>Number_of_Casualties</th>\n",
       "      <td>660679.0</td>\n",
       "      <td>1.357040</td>\n",
       "      <td>0.824847</td>\n",
       "      <td>1.000000</td>\n",
       "      <td>1.000000</td>\n",
       "      <td>1.000000</td>\n",
       "      <td>1.000000</td>\n",
       "      <td>68.000000</td>\n",
       "    </tr>\n",
       "    <tr>\n",
       "      <th>Number_of_Vehicles</th>\n",
       "      <td>660679.0</td>\n",
       "      <td>1.831255</td>\n",
       "      <td>0.715269</td>\n",
       "      <td>1.000000</td>\n",
       "      <td>1.000000</td>\n",
       "      <td>2.000000</td>\n",
       "      <td>2.000000</td>\n",
       "      <td>32.000000</td>\n",
       "    </tr>\n",
       "  </tbody>\n",
       "</table>\n",
       "</div>"
      ],
      "text/plain": [
       "                         count       mean       std        min        25%  \\\n",
       "Latitude              660654.0  52.553866  1.406922  49.914430  51.490690   \n",
       "Longitude             660653.0  -1.431210  1.383330  -7.516225  -2.332291   \n",
       "Number_of_Casualties  660679.0   1.357040  0.824847   1.000000   1.000000   \n",
       "Number_of_Vehicles    660679.0   1.831255  0.715269   1.000000   1.000000   \n",
       "\n",
       "                            50%        75%        max  \n",
       "Latitude              52.315641  53.453452  60.757544  \n",
       "Longitude             -1.411667  -0.232869   1.762010  \n",
       "Number_of_Casualties   1.000000   1.000000  68.000000  \n",
       "Number_of_Vehicles     2.000000   2.000000  32.000000  "
      ]
     },
     "execution_count": 34,
     "metadata": {},
     "output_type": "execute_result"
    }
   ],
   "source": [
    "accidents.describe().T"
   ]
  },
  {
   "cell_type": "markdown",
   "id": "6f9a5b80-c493-4305-b528-7ee7d0ea5196",
   "metadata": {},
   "source": [
    "<h2>5. Call Each Column Individually</h2>"
   ]
  },
  {
   "cell_type": "code",
   "execution_count": 6,
   "id": "91e5998f-1aa4-4997-b654-28b3deabcc7b",
   "metadata": {},
   "outputs": [
    {
     "data": {
      "text/plain": [
       "0         200701BS64157\n",
       "1         200701BS65737\n",
       "2         200701BS66127\n",
       "3         200701BS66128\n",
       "4         200701BS66837\n",
       "              ...      \n",
       "660674    201091NM01760\n",
       "660675    201091NM01881\n",
       "660676    201091NM01935\n",
       "660677    201091NM01964\n",
       "660678    201091NM02142\n",
       "Name: Index, Length: 660679, dtype: object"
      ]
     },
     "execution_count": 6,
     "metadata": {},
     "output_type": "execute_result"
    }
   ],
   "source": [
    "accidents['Index']"
   ]
  },
  {
   "cell_type": "code",
   "execution_count": 7,
   "id": "e7500158-792c-41d8-9476-38e743b956ab",
   "metadata": {},
   "outputs": [
    {
     "data": {
      "text/plain": [
       "0         Serious\n",
       "1         Serious\n",
       "2         Serious\n",
       "3         Serious\n",
       "4          Slight\n",
       "           ...   \n",
       "660674     Slight\n",
       "660675     Slight\n",
       "660676     Slight\n",
       "660677    Serious\n",
       "660678    Serious\n",
       "Name: Accident_Severity, Length: 660679, dtype: object"
      ]
     },
     "execution_count": 7,
     "metadata": {},
     "output_type": "execute_result"
    }
   ],
   "source": [
    "accidents['Accident_Severity']"
   ]
  },
  {
   "cell_type": "code",
   "execution_count": 8,
   "id": "7a1fc75e-5987-40d7-b1e8-651ed5e1be00",
   "metadata": {},
   "outputs": [
    {
     "data": {
      "text/plain": [
       "0           5/6/2019\n",
       "1           2/7/2019\n",
       "2         26-08-2019\n",
       "3         16-08-2019\n",
       "4           3/9/2019\n",
       "             ...    \n",
       "660674    18-02-2022\n",
       "660675    21-02-2022\n",
       "660676    23-02-2022\n",
       "660677    23-02-2022\n",
       "660678    28-02-2022\n",
       "Name: Accident Date, Length: 660679, dtype: object"
      ]
     },
     "execution_count": 8,
     "metadata": {},
     "output_type": "execute_result"
    }
   ],
   "source": [
    "accidents['Accident Date']"
   ]
  },
  {
   "cell_type": "code",
   "execution_count": 9,
   "id": "98a388a0-5092-44cf-9d06-4b9cdc44d0dc",
   "metadata": {},
   "outputs": [
    {
     "data": {
      "text/plain": [
       "0         51.506187\n",
       "1         51.495029\n",
       "2         51.517715\n",
       "3         51.495478\n",
       "4         51.488576\n",
       "            ...    \n",
       "660674    57.374005\n",
       "660675    57.232273\n",
       "660676    57.585044\n",
       "660677    57.214898\n",
       "660678    57.575210\n",
       "Name: Latitude, Length: 660679, dtype: float64"
      ]
     },
     "execution_count": 9,
     "metadata": {},
     "output_type": "execute_result"
    }
   ],
   "source": [
    "accidents['Latitude']"
   ]
  },
  {
   "cell_type": "code",
   "execution_count": 10,
   "id": "151be105-161a-49ed-ae51-6f2dfbd570db",
   "metadata": {},
   "outputs": [
    {
     "data": {
      "text/plain": [
       "0               Darkness - lights lit\n",
       "1                            Daylight\n",
       "2         Darkness - lighting unknown\n",
       "3                            Daylight\n",
       "4               Darkness - lights lit\n",
       "                     ...             \n",
       "660674                       Daylight\n",
       "660675         Darkness - no lighting\n",
       "660676                       Daylight\n",
       "660677         Darkness - no lighting\n",
       "660678                       Daylight\n",
       "Name: Light_Conditions, Length: 660679, dtype: object"
      ]
     },
     "execution_count": 10,
     "metadata": {},
     "output_type": "execute_result"
    }
   ],
   "source": [
    "accidents['Light_Conditions']"
   ]
  },
  {
   "cell_type": "code",
   "execution_count": 11,
   "id": "5daf402b-5bc6-41ec-988b-abcf8f148350",
   "metadata": {},
   "outputs": [
    {
     "data": {
      "text/plain": [
       "0         Kensington and Chelsea\n",
       "1         Kensington and Chelsea\n",
       "2         Kensington and Chelsea\n",
       "3         Kensington and Chelsea\n",
       "4         Kensington and Chelsea\n",
       "                   ...          \n",
       "660674                  Highland\n",
       "660675                  Highland\n",
       "660676                  Highland\n",
       "660677                  Highland\n",
       "660678                  Highland\n",
       "Name: District Area, Length: 660679, dtype: object"
      ]
     },
     "execution_count": 11,
     "metadata": {},
     "output_type": "execute_result"
    }
   ],
   "source": [
    "accidents['District Area']"
   ]
  },
  {
   "cell_type": "code",
   "execution_count": 12,
   "id": "2c293305-0366-4b4c-80d3-75b6d126e6f1",
   "metadata": {},
   "outputs": [
    {
     "data": {
      "text/plain": [
       "0        -0.209082\n",
       "1        -0.173647\n",
       "2        -0.210215\n",
       "3        -0.202731\n",
       "4        -0.192487\n",
       "            ...   \n",
       "660674   -3.467828\n",
       "660675   -3.809281\n",
       "660676   -3.862727\n",
       "660677   -3.823997\n",
       "660678   -3.895673\n",
       "Name: Longitude, Length: 660679, dtype: float64"
      ]
     },
     "execution_count": 12,
     "metadata": {},
     "output_type": "execute_result"
    }
   ],
   "source": [
    "accidents['Longitude']"
   ]
  },
  {
   "cell_type": "code",
   "execution_count": 13,
   "id": "d18cc98a-d9ed-46c8-975d-f4ad707d3368",
   "metadata": {},
   "outputs": [
    {
     "data": {
      "text/plain": [
       "0         1\n",
       "1         1\n",
       "2         1\n",
       "3         1\n",
       "4         1\n",
       "         ..\n",
       "660674    2\n",
       "660675    1\n",
       "660676    1\n",
       "660677    1\n",
       "660678    1\n",
       "Name: Number_of_Casualties, Length: 660679, dtype: int64"
      ]
     },
     "execution_count": 13,
     "metadata": {},
     "output_type": "execute_result"
    }
   ],
   "source": [
    "accidents['Number_of_Casualties']"
   ]
  },
  {
   "cell_type": "code",
   "execution_count": 14,
   "id": "f15361a2-0d8a-4525-8fb4-0d22f599a59a",
   "metadata": {},
   "outputs": [
    {
     "data": {
      "text/plain": [
       "0         2\n",
       "1         2\n",
       "2         3\n",
       "3         4\n",
       "4         2\n",
       "         ..\n",
       "660674    1\n",
       "660675    1\n",
       "660676    3\n",
       "660677    2\n",
       "660678    1\n",
       "Name: Number_of_Vehicles, Length: 660679, dtype: int64"
      ]
     },
     "execution_count": 14,
     "metadata": {},
     "output_type": "execute_result"
    }
   ],
   "source": [
    "accidents['Number_of_Vehicles']"
   ]
  },
  {
   "cell_type": "code",
   "execution_count": 15,
   "id": "46116082-8be7-4209-933f-62fd5030a9bd",
   "metadata": {},
   "outputs": [
    {
     "data": {
      "text/plain": [
       "0                  Dry\n",
       "1          Wet or damp\n",
       "2                  Dry\n",
       "3                  Dry\n",
       "4                  Dry\n",
       "              ...     \n",
       "660674             Dry\n",
       "660675    Frost or ice\n",
       "660676    Frost or ice\n",
       "660677     Wet or damp\n",
       "660678     Wet or damp\n",
       "Name: Road_Surface_Conditions, Length: 660679, dtype: object"
      ]
     },
     "execution_count": 15,
     "metadata": {},
     "output_type": "execute_result"
    }
   ],
   "source": [
    "accidents['Road_Surface_Conditions']"
   ]
  },
  {
   "cell_type": "code",
   "execution_count": 16,
   "id": "896ee1f5-f810-4c11-b0b4-412d366fe78e",
   "metadata": {},
   "outputs": [
    {
     "data": {
      "text/plain": [
       "0         Single carriageway\n",
       "1         Single carriageway\n",
       "2                        NaN\n",
       "3         Single carriageway\n",
       "4                        NaN\n",
       "                 ...        \n",
       "660674    Single carriageway\n",
       "660675    Single carriageway\n",
       "660676    Single carriageway\n",
       "660677    Single carriageway\n",
       "660678      Dual carriageway\n",
       "Name: Road_Type, Length: 660679, dtype: object"
      ]
     },
     "execution_count": 16,
     "metadata": {},
     "output_type": "execute_result"
    }
   ],
   "source": [
    "accidents['Road_Type']"
   ]
  },
  {
   "cell_type": "code",
   "execution_count": 17,
   "id": "aec37dfb-46e6-4e57-8af9-fb6631c0b97b",
   "metadata": {},
   "outputs": [
    {
     "data": {
      "text/plain": [
       "0         Urban\n",
       "1         Urban\n",
       "2         Urban\n",
       "3         Urban\n",
       "4         Urban\n",
       "          ...  \n",
       "660674    Rural\n",
       "660675    Rural\n",
       "660676    Rural\n",
       "660677    Rural\n",
       "660678    Rural\n",
       "Name: Urban_or_Rural_Area, Length: 660679, dtype: object"
      ]
     },
     "execution_count": 17,
     "metadata": {},
     "output_type": "execute_result"
    }
   ],
   "source": [
    "accidents['Urban_or_Rural_Area']"
   ]
  },
  {
   "cell_type": "code",
   "execution_count": 18,
   "id": "8d7a7cff-bbe4-4bcf-ae40-05ada7e03c1f",
   "metadata": {},
   "outputs": [
    {
     "data": {
      "text/plain": [
       "0            Fine no high winds\n",
       "1         Raining no high winds\n",
       "2                           NaN\n",
       "3            Fine no high winds\n",
       "4                           NaN\n",
       "                  ...          \n",
       "660674       Fine no high winds\n",
       "660675       Fine no high winds\n",
       "660676       Fine no high winds\n",
       "660677       Fine no high winds\n",
       "660678    Snowing no high winds\n",
       "Name: Weather_Conditions, Length: 660679, dtype: object"
      ]
     },
     "execution_count": 18,
     "metadata": {},
     "output_type": "execute_result"
    }
   ],
   "source": [
    "accidents['Weather_Conditions']"
   ]
  },
  {
   "cell_type": "code",
   "execution_count": 19,
   "id": "a086144c-e0b4-4744-b111-e4082d1229b7",
   "metadata": {},
   "outputs": [
    {
     "data": {
      "text/plain": [
       "0                                          Car\n",
       "1                                          Car\n",
       "2                        Taxi/Private hire car\n",
       "3         Bus or coach (17 or more pass seats)\n",
       "4                                Other vehicle\n",
       "                          ...                 \n",
       "660674                                     Car\n",
       "660675                                     Car\n",
       "660676                                     Car\n",
       "660677                   Motorcycle over 500cc\n",
       "660678                                     Car\n",
       "Name: Vehicle_Type, Length: 660679, dtype: object"
      ]
     },
     "execution_count": 19,
     "metadata": {},
     "output_type": "execute_result"
    }
   ],
   "source": [
    "accidents['Vehicle_Type']"
   ]
  },
  {
   "cell_type": "markdown",
   "id": "77806716-e7ec-44ba-8b32-cfa24edaafeb",
   "metadata": {},
   "source": [
    "<h2>6. Check For Null Values</h2>"
   ]
  },
  {
   "cell_type": "code",
   "execution_count": 20,
   "id": "100e81ce-c2b1-43f3-b54a-7f182ccb1da3",
   "metadata": {},
   "outputs": [
    {
     "data": {
      "text/plain": [
       "Index                          0\n",
       "Accident_Severity              0\n",
       "Accident Date                  0\n",
       "Latitude                      25\n",
       "Light_Conditions               0\n",
       "District Area                  0\n",
       "Longitude                     26\n",
       "Number_of_Casualties           0\n",
       "Number_of_Vehicles             0\n",
       "Road_Surface_Conditions      726\n",
       "Road_Type                   4520\n",
       "Urban_or_Rural_Area           15\n",
       "Weather_Conditions         14128\n",
       "Vehicle_Type                   0\n",
       "dtype: int64"
      ]
     },
     "execution_count": 20,
     "metadata": {},
     "output_type": "execute_result"
    }
   ],
   "source": [
    "accidents.isnull().sum()"
   ]
  },
  {
   "cell_type": "markdown",
   "id": "840bec6c-1301-4f6c-8730-9d3f317b0d51",
   "metadata": {},
   "source": [
    "<h2>7. Fill Null Values with statistical values</h2>"
   ]
  },
  {
   "cell_type": "code",
   "execution_count": 21,
   "id": "40cede57-f75a-4a06-8095-34974f7d7141",
   "metadata": {},
   "outputs": [],
   "source": [
    "accidents['Accident_Severity'] = accidents['Accident_Severity'].fillna(accidents['Accident_Severity'].mode()[0])\n",
    "accidents['Light_Conditions'] = accidents['Light_Conditions'].fillna(accidents['Light_Conditions'].mode()[0])\n",
    "accidents['Road_Surface_Conditions'] = accidents['Road_Surface_Conditions'].fillna(accidents['Road_Surface_Conditions'].mode()[0])\n",
    "accidents['Number_of_Casualties'] = accidents['Number_of_Casualties'].fillna(accidents['Number_of_Casualties'].median())\n",
    "accidents['Number_of_Vehicles'] = accidents['Number_of_Vehicles'].fillna(accidents['Number_of_Vehicles'].median())\n",
    "accidents['District Area'] = accidents['District Area'].fillna(accidents['District Area'].mode()[0])"
   ]
  },
  {
   "cell_type": "code",
   "execution_count": 22,
   "id": "ffa5c81e-d713-423b-a417-5d339d6a4c1d",
   "metadata": {},
   "outputs": [
    {
     "data": {
      "text/plain": [
       "Index                          0\n",
       "Accident_Severity              0\n",
       "Accident Date                  0\n",
       "Latitude                      25\n",
       "Light_Conditions               0\n",
       "District Area                  0\n",
       "Longitude                     26\n",
       "Number_of_Casualties           0\n",
       "Number_of_Vehicles             0\n",
       "Road_Surface_Conditions        0\n",
       "Road_Type                   4520\n",
       "Urban_or_Rural_Area           15\n",
       "Weather_Conditions         14128\n",
       "Vehicle_Type                   0\n",
       "dtype: int64"
      ]
     },
     "execution_count": 22,
     "metadata": {},
     "output_type": "execute_result"
    }
   ],
   "source": [
    "accidents.isnull().sum()"
   ]
  },
  {
   "cell_type": "markdown",
   "id": "26364a10-1038-42fa-bae8-a86c35d99c4c",
   "metadata": {},
   "source": [
    "<h2>8. Check Column Data Types</h2>"
   ]
  },
  {
   "cell_type": "code",
   "execution_count": 23,
   "id": "f19fb2d3-8798-43f8-bfa5-ed5c105a8c43",
   "metadata": {},
   "outputs": [
    {
     "data": {
      "text/plain": [
       "<bound method DataFrame.info of                 Index Accident_Severity Accident Date   Latitude  \\\n",
       "0       200701BS64157           Serious      5/6/2019  51.506187   \n",
       "1       200701BS65737           Serious      2/7/2019  51.495029   \n",
       "2       200701BS66127           Serious    26-08-2019  51.517715   \n",
       "3       200701BS66128           Serious    16-08-2019  51.495478   \n",
       "4       200701BS66837            Slight      3/9/2019  51.488576   \n",
       "...               ...               ...           ...        ...   \n",
       "660674  201091NM01760            Slight    18-02-2022  57.374005   \n",
       "660675  201091NM01881            Slight    21-02-2022  57.232273   \n",
       "660676  201091NM01935            Slight    23-02-2022  57.585044   \n",
       "660677  201091NM01964           Serious    23-02-2022  57.214898   \n",
       "660678  201091NM02142           Serious    28-02-2022  57.575210   \n",
       "\n",
       "                   Light_Conditions           District Area  Longitude  \\\n",
       "0             Darkness - lights lit  Kensington and Chelsea  -0.209082   \n",
       "1                          Daylight  Kensington and Chelsea  -0.173647   \n",
       "2       Darkness - lighting unknown  Kensington and Chelsea  -0.210215   \n",
       "3                          Daylight  Kensington and Chelsea  -0.202731   \n",
       "4             Darkness - lights lit  Kensington and Chelsea  -0.192487   \n",
       "...                             ...                     ...        ...   \n",
       "660674                     Daylight                Highland  -3.467828   \n",
       "660675       Darkness - no lighting                Highland  -3.809281   \n",
       "660676                     Daylight                Highland  -3.862727   \n",
       "660677       Darkness - no lighting                Highland  -3.823997   \n",
       "660678                     Daylight                Highland  -3.895673   \n",
       "\n",
       "        Number_of_Casualties  Number_of_Vehicles Road_Surface_Conditions  \\\n",
       "0                          1                   2                     Dry   \n",
       "1                          1                   2             Wet or damp   \n",
       "2                          1                   3                     Dry   \n",
       "3                          1                   4                     Dry   \n",
       "4                          1                   2                     Dry   \n",
       "...                      ...                 ...                     ...   \n",
       "660674                     2                   1                     Dry   \n",
       "660675                     1                   1            Frost or ice   \n",
       "660676                     1                   3            Frost or ice   \n",
       "660677                     1                   2             Wet or damp   \n",
       "660678                     1                   1             Wet or damp   \n",
       "\n",
       "                 Road_Type Urban_or_Rural_Area     Weather_Conditions  \\\n",
       "0       Single carriageway               Urban     Fine no high winds   \n",
       "1       Single carriageway               Urban  Raining no high winds   \n",
       "2                      NaN               Urban                    NaN   \n",
       "3       Single carriageway               Urban     Fine no high winds   \n",
       "4                      NaN               Urban                    NaN   \n",
       "...                    ...                 ...                    ...   \n",
       "660674  Single carriageway               Rural     Fine no high winds   \n",
       "660675  Single carriageway               Rural     Fine no high winds   \n",
       "660676  Single carriageway               Rural     Fine no high winds   \n",
       "660677  Single carriageway               Rural     Fine no high winds   \n",
       "660678    Dual carriageway               Rural  Snowing no high winds   \n",
       "\n",
       "                                Vehicle_Type  \n",
       "0                                        Car  \n",
       "1                                        Car  \n",
       "2                      Taxi/Private hire car  \n",
       "3       Bus or coach (17 or more pass seats)  \n",
       "4                              Other vehicle  \n",
       "...                                      ...  \n",
       "660674                                   Car  \n",
       "660675                                   Car  \n",
       "660676                                   Car  \n",
       "660677                 Motorcycle over 500cc  \n",
       "660678                                   Car  \n",
       "\n",
       "[660679 rows x 14 columns]>"
      ]
     },
     "execution_count": 23,
     "metadata": {},
     "output_type": "execute_result"
    }
   ],
   "source": [
    "accidents.info"
   ]
  },
  {
   "cell_type": "markdown",
   "id": "dbf0fa5a-ff54-4f0f-919b-ed1308236f1e",
   "metadata": {},
   "source": [
    "## QUESTION'S,CODE, AND INSIGHT'S "
   ]
  },
  {
   "cell_type": "markdown",
   "id": "c13b95f4-daf1-4500-b37e-6f75c95f2665",
   "metadata": {},
   "source": [
    "## 1.How many accidents occurred in urban areas compared to rural areas?\n"
   ]
  },
  {
   "cell_type": "code",
   "execution_count": 38,
   "id": "86f96189-9f9a-415c-b394-e69474456ec8",
   "metadata": {},
   "outputs": [
    {
     "data": {
      "text/plain": [
       "Urban_or_Rural_Area\n",
       "Urban          421663\n",
       "Rural          238990\n",
       "Unallocated        11\n",
       "Name: count, dtype: int64"
      ]
     },
     "execution_count": 38,
     "metadata": {},
     "output_type": "execute_result"
    }
   ],
   "source": [
    "accidents['Urban_or_Rural_Area'].value_counts()"
   ]
  },
  {
   "cell_type": "markdown",
   "id": "b5dd8850-cea9-4f4c-845e-c11d4a274904",
   "metadata": {},
   "source": [
    "### Insight: There were 421,663 accidents in urban areas and 238,990 in rural areas."
   ]
  },
  {
   "cell_type": "markdown",
   "id": "170bfce4-91e5-4fce-a833-994c3850d6f6",
   "metadata": {},
   "source": [
    "## 2.What is the average number of casualties per accident?"
   ]
  },
  {
   "cell_type": "code",
   "execution_count": 36,
   "id": "e2e2b24e-ef1c-465f-b77d-b8929acbb4ba",
   "metadata": {},
   "outputs": [
    {
     "data": {
      "text/plain": [
       "np.float64(1.357040257068864)"
      ]
     },
     "execution_count": 36,
     "metadata": {},
     "output_type": "execute_result"
    }
   ],
   "source": [
    "accidents['Number_of_Casualties'].mean()"
   ]
  },
  {
   "cell_type": "markdown",
   "id": "c6583bb8-2784-4a45-a75b-6d9b700b7bfe",
   "metadata": {},
   "source": [
    "### Insight: On average, there are 1.35 casualties per accident."
   ]
  },
  {
   "cell_type": "markdown",
   "id": "ada55322-903d-4a96-8acb-62a14f8a21d0",
   "metadata": {},
   "source": [
    "## 3.How many total accidents are recorded?"
   ]
  },
  {
   "cell_type": "code",
   "execution_count": 39,
   "id": "ccf8fc63-4145-4760-9a46-61b7cc1f0bc6",
   "metadata": {},
   "outputs": [
    {
     "data": {
      "text/plain": [
       "660679"
      ]
     },
     "execution_count": 39,
     "metadata": {},
     "output_type": "execute_result"
    }
   ],
   "source": [
    "len(accidents)"
   ]
  },
  {
   "cell_type": "markdown",
   "id": "9c49b11b-4de6-4a2d-9f37-b31af7a19f2d",
   "metadata": {},
   "source": [
    "## Insight: There are 660,679 accidents in the dataset."
   ]
  },
  {
   "cell_type": "markdown",
   "id": "dec2bc20-7f2d-42cc-a468-cc044ac5a504",
   "metadata": {},
   "source": [
    "## 4.How many accidents occurred on single carriageways?"
   ]
  },
  {
   "cell_type": "code",
   "execution_count": 42,
   "id": "814c4645-b9d6-4ea6-b2ce-04a0ccb663b1",
   "metadata": {},
   "outputs": [
    {
     "data": {
      "text/plain": [
       "np.int64(492143)"
      ]
     },
     "execution_count": 42,
     "metadata": {},
     "output_type": "execute_result"
    }
   ],
   "source": [
    "(accidents['Road_Type'] == 'Single carriageway').sum()"
   ]
  },
  {
   "cell_type": "markdown",
   "id": "091b8b6c-cdc8-42a3-983b-8af13e18cada",
   "metadata": {},
   "source": [
    "## Insight: There were 492,143 accidents on single carriageways."
   ]
  },
  {
   "cell_type": "markdown",
   "id": "0630cd34-aaf7-4263-be09-1334bf1a9737",
   "metadata": {},
   "source": [
    "## 5.How many different weather conditions are recorded?"
   ]
  },
  {
   "cell_type": "code",
   "execution_count": 43,
   "id": "3a5726cd-1be1-4c2e-b3b6-21643c6d89d1",
   "metadata": {},
   "outputs": [
    {
     "data": {
      "text/plain": [
       "8"
      ]
     },
     "execution_count": 43,
     "metadata": {},
     "output_type": "execute_result"
    }
   ],
   "source": [
    "accidents['Weather_Conditions'].nunique()"
   ]
  },
  {
   "cell_type": "markdown",
   "id": "462ad8af-d938-4193-9096-bc79fe8edf67",
   "metadata": {},
   "source": [
    "### Insight: There are 8 different weather conditions in the dataset."
   ]
  },
  {
   "cell_type": "markdown",
   "id": "54155793-0481-4062-b1e8-cf6afc224331",
   "metadata": {},
   "source": [
    "## 6.Which weather condition had the most accidents?"
   ]
  },
  {
   "cell_type": "code",
   "execution_count": 44,
   "id": "bd1df33b-18de-4833-ab42-c16fc40e90b6",
   "metadata": {},
   "outputs": [
    {
     "data": {
      "text/plain": [
       "'Fine no high winds'"
      ]
     },
     "execution_count": 44,
     "metadata": {},
     "output_type": "execute_result"
    }
   ],
   "source": [
    "accidents['Weather_Conditions'].mode()[0]"
   ]
  },
  {
   "cell_type": "markdown",
   "id": "4be27dab-c84a-4448-851b-e222f4164671",
   "metadata": {},
   "source": [
    "### Insight: The most common weather condition is Fine no high winds."
   ]
  },
  {
   "cell_type": "markdown",
   "id": "f156f4fb-39fb-463b-875d-08bfc4ca9c9b",
   "metadata": {},
   "source": [
    "## 7.Which day had the single highest number of accidents?"
   ]
  },
  {
   "cell_type": "code",
   "execution_count": 48,
   "id": "2ad47972-9084-4f1a-b5ed-4b4acef7becf",
   "metadata": {},
   "outputs": [
    {
     "data": {
      "text/plain": [
       "'30-11-2019'"
      ]
     },
     "execution_count": 48,
     "metadata": {},
     "output_type": "execute_result"
    }
   ],
   "source": [
    "accidents['Accident Date'].value_counts().idxmax()"
   ]
  },
  {
   "cell_type": "markdown",
   "id": "88018608-3c1b-426b-bbae-39bcef9ffa20",
   "metadata": {},
   "source": [
    "### Insight: The day with the most accidents was 30-11-2019."
   ]
  },
  {
   "cell_type": "markdown",
   "id": "53a4f84b-e338-4b69-a086-6adafde320ac",
   "metadata": {},
   "source": [
    "## 8.Are accidents more severe in rural or urban areas?"
   ]
  },
  {
   "cell_type": "code",
   "execution_count": 55,
   "id": "edbd2c0d-1b0b-409e-aae3-f7e077c20871",
   "metadata": {},
   "outputs": [
    {
     "data": {
      "text/plain": [
       "Urban_or_Rural_Area  Accident_Severity\n",
       "Rural                Slight               196077\n",
       "                     Serious               37312\n",
       "                     Fatal                  5601\n",
       "Unallocated          Slight                   10\n",
       "                     Serious                   1\n",
       "Urban                Slight               367701\n",
       "                     Serious               50902\n",
       "                     Fatal                  3060\n",
       "Name: count, dtype: int64"
      ]
     },
     "execution_count": 55,
     "metadata": {},
     "output_type": "execute_result"
    }
   ],
   "source": [
    "accidents.groupby('Urban_or_Rural_Area')['Accident_Severity'].value_counts()"
   ]
  },
  {
   "cell_type": "markdown",
   "id": "e9d3da59-259f-468e-aae8-23cbc0f624d2",
   "metadata": {},
   "source": [
    "### Insight: Rural accidents are more often severe/fatal, while urban accidents are more frequent but less severe."
   ]
  },
  {
   "cell_type": "markdown",
   "id": "cb5de2ed-d755-4470-bb6d-da0a4f185fa7",
   "metadata": {},
   "source": [
    "## 9.Is there a correlation between vehicle type and accident severity?"
   ]
  },
  {
   "cell_type": "code",
   "execution_count": 59,
   "id": "bf147be3-3c8c-49de-b097-5ddfa8eb3bc5",
   "metadata": {},
   "outputs": [
    {
     "data": {
      "text/plain": [
       "Agricultural vehicle                     0.001808\n",
       "Bus or coach (17 or more pass seats)    -0.001889\n",
       "Car                                     -0.000344\n",
       "Data missing or out of range            -0.001183\n",
       "Goods 7.5 tonnes mgw and over            0.000281\n",
       "Goods over 3.5t. and under 7.5t          0.002003\n",
       "Minibus (8 - 16 passenger seats)         0.000991\n",
       "Motorcycle 125cc and under              -0.000231\n",
       "Motorcycle 50cc and under               -0.000050\n",
       "Motorcycle over 125cc and up to 500cc   -0.000344\n",
       "Motorcycle over 500cc                    0.000718\n",
       "Other vehicle                            0.000693\n",
       "Pedal cycle                              0.003272\n",
       "Ridden horse                            -0.000966\n",
       "Taxi/Private hire car                   -0.000129\n",
       "Van / Goods 3.5 tonnes mgw or under     -0.000145\n",
       "dtype: float64"
      ]
     },
     "execution_count": 59,
     "metadata": {},
     "output_type": "execute_result"
    }
   ],
   "source": [
    "pd.get_dummies(accidents['Vehicle_Type']).corrwith(pd.get_dummies(accidents['Accident_Severity'])['Serious'])"
   ]
  },
  {
   "cell_type": "markdown",
   "id": "b027eee6-3acf-4d9c-b485-38d135fe7856",
   "metadata": {},
   "source": [
    "### Insight: Indicates whether certain vehicles like buses, trucks are more linked to serious accidents."
   ]
  },
  {
   "cell_type": "markdown",
   "id": "e7f92344-5b5e-4084-8378-7bb396443c1d",
   "metadata": {},
   "source": [
    "## 10.What is the maximum number of casualties in a single accident?"
   ]
  },
  {
   "cell_type": "code",
   "execution_count": 61,
   "id": "980a1a56-0ab0-4f3d-9c8e-cc526f429450",
   "metadata": {},
   "outputs": [
    {
     "data": {
      "text/plain": [
       "np.int64(68)"
      ]
     },
     "execution_count": 61,
     "metadata": {},
     "output_type": "execute_result"
    }
   ],
   "source": [
    "accidents['Number_of_Casualties'].max()"
   ]
  },
  {
   "cell_type": "markdown",
   "id": "7b8f2e24-af6c-4b13-b7fd-ca22f33ea658",
   "metadata": {},
   "source": [
    "### insight: The maximum casualties recorded in a single accident is 68."
   ]
  },
  {
   "cell_type": "markdown",
   "id": "83a829a9-2559-483c-b514-4021f970178f",
   "metadata": {},
   "source": [
    "## 11.How does weather affect the average number of vehicles per accident?"
   ]
  },
  {
   "cell_type": "code",
   "execution_count": 64,
   "id": "bb465673-eff6-4ddc-a346-3fe480de538e",
   "metadata": {},
   "outputs": [
    {
     "data": {
      "text/plain": [
       "Weather_Conditions\n",
       "Fine + high winds        1.779401\n",
       "Fine no high winds       1.836809\n",
       "Fog or mist              1.807823\n",
       "Other                    1.777668\n",
       "Raining + high winds     1.777951\n",
       "Raining no high winds    1.831610\n",
       "Snowing + high winds     1.737853\n",
       "Snowing no high winds    1.754889\n",
       "Name: Number_of_Vehicles, dtype: float64"
      ]
     },
     "execution_count": 64,
     "metadata": {},
     "output_type": "execute_result"
    }
   ],
   "source": [
    "accidents.groupby('Weather_Conditions')['Number_of_Vehicles'].mean()"
   ]
  },
  {
   "cell_type": "markdown",
   "id": "cfeb2624-3135-4bbc-acce-3b1265cc0a10",
   "metadata": {},
   "source": [
    "### Insight: Poor weather like rain, fog often involves slightly more vehicles in each accident."
   ]
  },
  {
   "cell_type": "markdown",
   "id": "60d56e0d-ae28-4f83-b145-c6f4803f71c9",
   "metadata": {},
   "source": [
    "## 12.Are motorcycles more involved in fatal accidents compared to cars?"
   ]
  },
  {
   "cell_type": "code",
   "execution_count": 69,
   "id": "e6126182-e069-474c-bacc-8eb80b221f26",
   "metadata": {},
   "outputs": [
    {
     "data": {
      "text/plain": [
       "Vehicle_Type                           Accident_Severity\n",
       "Agricultural vehicle                   Slight                 1644\n",
       "                                       Serious                 282\n",
       "                                       Fatal                    21\n",
       "Bus or coach (17 or more pass seats)   Slight                22180\n",
       "                                       Serious                3373\n",
       "                                       Fatal                   325\n",
       "Car                                    Slight               424954\n",
       "                                       Serious               66461\n",
       "                                       Fatal                  6577\n",
       "Data missing or out of range           Slight                    6\n",
       "Goods 7.5 tonnes mgw and over          Slight                14770\n",
       "                                       Serious                2321\n",
       "                                       Fatal                   216\n",
       "Goods over 3.5t. and under 7.5t        Slight                 5172\n",
       "                                       Serious                 857\n",
       "                                       Fatal                    67\n",
       "Minibus (8 - 16 passenger seats)       Slight                 1671\n",
       "                                       Serious                 276\n",
       "                                       Fatal                    29\n",
       "Motorcycle 125cc and under             Slight                13049\n",
       "                                       Serious                2031\n",
       "                                       Fatal                   189\n",
       "Motorcycle 50cc and under              Slight                 6494\n",
       "                                       Serious                1014\n",
       "                                       Fatal                    95\n",
       "Motorcycle over 125cc and up to 500cc  Slight                 6537\n",
       "                                       Serious                1014\n",
       "                                       Fatal                   105\n",
       "Motorcycle over 500cc                  Slight                21861\n",
       "                                       Serious                3457\n",
       "                                       Fatal                   339\n",
       "Other vehicle                          Slight                 4800\n",
       "                                       Serious                 767\n",
       "                                       Fatal                    70\n",
       "Pedal cycle                            Slight                  152\n",
       "                                       Serious                  39\n",
       "                                       Fatal                     6\n",
       "Ridden horse                           Slight                    4\n",
       "Taxi/Private hire car                  Slight                11368\n",
       "                                       Serious                1771\n",
       "                                       Fatal                   155\n",
       "Van / Goods 3.5 tonnes mgw or under    Slight                29139\n",
       "                                       Serious                4554\n",
       "                                       Fatal                   467\n",
       "Name: count, dtype: int64"
      ]
     },
     "execution_count": 69,
     "metadata": {},
     "output_type": "execute_result"
    }
   ],
   "source": [
    "accidents.groupby('Vehicle_Type')['Accident_Severity'].value_counts()"
   ]
  },
  {
   "cell_type": "markdown",
   "id": "25bd4262-3a28-483d-94d2-166d11499239",
   "metadata": {},
   "source": [
    "### Insight: Motorcycles have a higher proportion of fatal crashes than cars highlighting their vulnerability."
   ]
  },
  {
   "cell_type": "markdown",
   "id": "0e981840-9c86-4d12-aba8-6e346bafcfca",
   "metadata": {},
   "source": [
    "## 13.How does day/night affect the number of vehicles involved?"
   ]
  },
  {
   "cell_type": "code",
   "execution_count": 74,
   "id": "9d07dba7-c09e-4021-9468-d822f5877398",
   "metadata": {},
   "outputs": [
    {
     "data": {
      "text/plain": [
       "Light_Conditions\n",
       "Darkness - lighting unknown    1.758482\n",
       "Darkness - lights lit          1.775498\n",
       "Darkness - lights unlit        1.752654\n",
       "Darkness - no lighting         1.599781\n",
       "Daylight                       1.865385\n",
       "Name: Number_of_Vehicles, dtype: float64"
      ]
     },
     "execution_count": 74,
     "metadata": {},
     "output_type": "execute_result"
    }
   ],
   "source": [
    "accidents.groupby('Light_Conditions')['Number_of_Vehicles'].mean()"
   ]
  },
  {
   "cell_type": "markdown",
   "id": "ca06aa81-5da0-4521-861a-362af0f15c51",
   "metadata": {},
   "source": [
    "### Insight: Daytime accidents usually involve more vehicles, while nighttime accidents often involve fewer but are more severe."
   ]
  },
  {
   "cell_type": "markdown",
   "id": "4bf4d037-669f-44db-8145-426120121695",
   "metadata": {},
   "source": [
    "## 14.Do accidents in rural areas have higher fatality rates at night?"
   ]
  },
  {
   "cell_type": "code",
   "execution_count": 76,
   "id": "7152e292-d207-4537-b913-f1a840ca503a",
   "metadata": {},
   "outputs": [
    {
     "data": {
      "text/plain": [
       "Urban_or_Rural_Area  Light_Conditions             Accident_Severity\n",
       "Rural                Darkness - lighting unknown  Slight                 2082\n",
       "                                                  Serious                 344\n",
       "                                                  Fatal                    41\n",
       "                     Darkness - lights lit        Slight                20290\n",
       "                                                  Serious                3827\n",
       "                                                  Fatal                   578\n",
       "                     Darkness - lights unlit      Slight                  782\n",
       "                                                  Serious                 150\n",
       "                                                  Fatal                    29\n",
       "                     Darkness - no lighting       Slight                27087\n",
       "                                                  Serious                6861\n",
       "                                                  Fatal                  1569\n",
       "                     Daylight                     Slight               145836\n",
       "                                                  Serious               26130\n",
       "                                                  Fatal                  3384\n",
       "Unallocated          Darkness - lights lit        Slight                    2\n",
       "                     Daylight                     Slight                    8\n",
       "                                                  Serious                   1\n",
       "Urban                Darkness - lighting unknown  Slight                 3540\n",
       "                                                  Serious                 450\n",
       "                                                  Fatal                    27\n",
       "                     Darkness - lights lit        Slight                88052\n",
       "                                                  Serious               15302\n",
       "                                                  Fatal                  1282\n",
       "                     Darkness - lights unlit      Slight                 1355\n",
       "                                                  Serious                 210\n",
       "                                                  Fatal                    16\n",
       "                     Darkness - no lighting       Slight                 1562\n",
       "                                                  Serious                 313\n",
       "                                                  Fatal                    43\n",
       "                     Daylight                     Slight               273192\n",
       "                                                  Serious               34627\n",
       "                                                  Fatal                  1692\n",
       "Name: count, dtype: int64"
      ]
     },
     "execution_count": 76,
     "metadata": {},
     "output_type": "execute_result"
    }
   ],
   "source": [
    "accidents.groupby(['Urban_or_Rural_Area','Light_Conditions'])['Accident_Severity'].value_counts()"
   ]
  },
  {
   "cell_type": "markdown",
   "id": "9a9674bb-8846-43fe-9b94-54df4716a2c5",
   "metadata": {},
   "source": [
    "### Insight: Fatal accidents are most likely in rural areas during darkness without street lights."
   ]
  },
  {
   "cell_type": "markdown",
   "id": "2920b774-80f4-446a-9ed2-a47022c95882",
   "metadata": {},
   "source": [
    "## 15.How do lighting conditions affect the number of casualties per accident?"
   ]
  },
  {
   "cell_type": "code",
   "execution_count": 78,
   "id": "c8713dc6-40d9-40a1-b039-5189fc09f983",
   "metadata": {},
   "outputs": [
    {
     "data": {
      "text/plain": [
       "Light_Conditions\n",
       "Darkness - lighting unknown    1.306447\n",
       "Darkness - lights lit          1.369374\n",
       "Darkness - lights unlit        1.331105\n",
       "Darkness - no lighting         1.541657\n",
       "Daylight                       1.340309\n",
       "Name: Number_of_Casualties, dtype: float64"
      ]
     },
     "execution_count": 78,
     "metadata": {},
     "output_type": "execute_result"
    }
   ],
   "source": [
    "accidents.groupby('Light_Conditions')['Number_of_Casualties'].mean()"
   ]
  },
  {
   "cell_type": "markdown",
   "id": "13df74aa-b8d9-4e4e-bd71-257e64a4d2db",
   "metadata": {},
   "source": [
    "### Insight: Poor lighting increases the severity of accidents and raises casualties."
   ]
  },
  {
   "cell_type": "markdown",
   "id": "700ac2fc-5484-4a08-ab39-04d099e13630",
   "metadata": {},
   "source": [
    "## 16.What percentage of accidents occurred in fine weather?"
   ]
  },
  {
   "cell_type": "code",
   "execution_count": 83,
   "id": "d12e98c8-0a80-42ae-88a3-71041b756779",
   "metadata": {},
   "outputs": [
    {
     "data": {
      "text/plain": [
       "np.float64(80.56)"
      ]
     },
     "execution_count": 83,
     "metadata": {},
     "output_type": "execute_result"
    }
   ],
   "source": [
    "(accidents['Weather_Conditions'].value_counts(normalize=True)['Fine no high winds'] * 100).round(2)"
   ]
  },
  {
   "cell_type": "markdown",
   "id": "6cab9935-b629-41ae-b540-67c8baea55b5",
   "metadata": {},
   "source": [
    "### Insight: About 85.56% of accidents occurred in fine weather."
   ]
  },
  {
   "cell_type": "markdown",
   "id": "0121f52e-d2c7-45b4-b4dd-b07eb1eaef79",
   "metadata": {},
   "source": [
    "## 17.How many accidents occurred on wet roads?"
   ]
  },
  {
   "cell_type": "code",
   "execution_count": 85,
   "id": "92d67e38-6485-482f-8ff0-96019accb623",
   "metadata": {},
   "outputs": [
    {
     "data": {
      "text/plain": [
       "np.int64(0)"
      ]
     },
     "execution_count": 85,
     "metadata": {},
     "output_type": "execute_result"
    }
   ],
   "source": [
    "(accidents['Road_Surface_Conditions'] == 'Wet').sum()"
   ]
  },
  {
   "cell_type": "markdown",
   "id": "35a240e3-96c1-425d-848a-bebb6dd1a0b4",
   "metadata": {},
   "source": [
    "### Insight: There were 0 accident on wet roads."
   ]
  },
  {
   "cell_type": "markdown",
   "id": "d41270c9-d86d-425a-ab53-9db563b82923",
   "metadata": {},
   "source": [
    "## 18.Which accident severity is most common?"
   ]
  },
  {
   "cell_type": "code",
   "execution_count": 86,
   "id": "8496d2f9-a370-4704-9623-1bdedde483d1",
   "metadata": {},
   "outputs": [
    {
     "data": {
      "text/plain": [
       "'Slight'"
      ]
     },
     "execution_count": 86,
     "metadata": {},
     "output_type": "execute_result"
    }
   ],
   "source": [
    "accidents['Accident_Severity'].mode()[0]"
   ]
  },
  {
   "cell_type": "markdown",
   "id": "9f83ec5f-d4c7-47b0-ace8-c69d791e85dc",
   "metadata": {},
   "source": [
    "### Insight: The most common severity is Slight accidents."
   ]
  },
  {
   "cell_type": "markdown",
   "id": "6acb6048-2ae0-4d5e-babf-3358dfa913fd",
   "metadata": {},
   "source": [
    "## 19.How many accidents happened in daylight?"
   ]
  },
  {
   "cell_type": "code",
   "execution_count": 89,
   "id": "dad101fb-4c6b-4013-819c-950c93091700",
   "metadata": {},
   "outputs": [
    {
     "data": {
      "text/plain": [
       "np.int64(484880)"
      ]
     },
     "execution_count": 89,
     "metadata": {},
     "output_type": "execute_result"
    }
   ],
   "source": [
    "(accidents['Light_Conditions'] == 'Daylight').sum()"
   ]
  },
  {
   "cell_type": "markdown",
   "id": "daba9630-c85b-4460-81c1-1228d0b63bc2",
   "metadata": {},
   "source": [
    "### Insight: There were 484,880 accidents in daylight."
   ]
  },
  {
   "cell_type": "markdown",
   "id": "23a55e4a-2832-4986-93e1-e8e5f03ddbf8",
   "metadata": {},
   "source": [
    "## 20.How many accidents involved more than 10 vehicles?"
   ]
  },
  {
   "cell_type": "code",
   "execution_count": 91,
   "id": "b54ce6cf-813b-4c7e-ae3d-272eb6683178",
   "metadata": {},
   "outputs": [
    {
     "data": {
      "text/plain": [
       "np.int64(42)"
      ]
     },
     "execution_count": 91,
     "metadata": {},
     "output_type": "execute_result"
    }
   ],
   "source": [
    "(accidents['Number_of_Vehicles'] > 10).sum()"
   ]
  },
  {
   "cell_type": "markdown",
   "id": "8177a467-a60f-44fc-940f-24b5bf59a895",
   "metadata": {},
   "source": [
    "### Insight: There were 42 accidents involving more than 10 vehicles."
   ]
  },
  {
   "cell_type": "code",
   "execution_count": null,
   "id": "bfa1e3e5-ccb8-4775-8090-89d677664728",
   "metadata": {},
   "outputs": [],
   "source": []
  }
 ],
 "metadata": {
  "kernelspec": {
   "display_name": "Python 3 (ipykernel)",
   "language": "python",
   "name": "python3"
  },
  "language_info": {
   "codemirror_mode": {
    "name": "ipython",
    "version": 3
   },
   "file_extension": ".py",
   "mimetype": "text/x-python",
   "name": "python",
   "nbconvert_exporter": "python",
   "pygments_lexer": "ipython3",
   "version": "3.13.6"
  }
 },
 "nbformat": 4,
 "nbformat_minor": 5
}
